{
 "cells": [
  {
   "cell_type": "markdown",
   "metadata": {},
   "source": [
    "# Tel Aviv Stock Exchange\n",
    "* Scrape historical data"
   ]
  },
  {
   "cell_type": "code",
   "execution_count": 1,
   "metadata": {},
   "outputs": [],
   "source": [
    "import pandas as pd\n",
    "import numpy as np\n",
    "import time\n",
    "import os\n",
    "import shutil\n",
    "\n",
    "from selenium import webdriver\n",
    "\n",
    "%matplotlib inline\n",
    "import matplotlib.pyplot as plt"
   ]
  },
  {
   "cell_type": "code",
   "execution_count": 2,
   "metadata": {},
   "outputs": [],
   "source": [
    "#params\n",
    "data_dir = '/home/void/Downloads/'\n",
    "file_history = data_dir + 'securityHistoryInDayData.csv'"
   ]
  },
  {
   "cell_type": "code",
   "execution_count": 3,
   "metadata": {},
   "outputs": [],
   "source": [
    "def clean_history():\n",
    "    '''\n",
    "    removes tmp downloaded file\n",
    "    '''\n",
    "    \n",
    "    if os.path.exists(file_history):\n",
    "        os.remove(file_history)    "
   ]
  },
  {
   "cell_type": "markdown",
   "metadata": {},
   "source": [
    "# Static\n",
    "* Defined dict of symbols"
   ]
  },
  {
   "cell_type": "code",
   "execution_count": 4,
   "metadata": {},
   "outputs": [],
   "source": [
    "#symbol to tick\n",
    "symbols = {\n",
    "    #TA-35\n",
    "    'HRL.TA-35' : 1, #Harel Sal (4A) TA 35\n",
    "    'KSM.TA-35' : 10, #KSM ETF (4A) TA-35\n",
    "    'MTF.TA-35' : 1, #MTF SAL (4A) TA-35\n",
    "    'PSG.TA-35' : 1, #Psagot ETF (4A) TA-35\n",
    "    'TC.TA35' : 1, #Tachlit SAL (40) TA 35\n",
    "    \n",
    "    #TA-125\n",
    "    'TC.TA125' : 1, #Tachlit SAL (40) TA 125\n",
    "    'KSM.TA-125' : 10, #KSM ETF (4A) TA-125\n",
    "    'PSG.TA-125' : 1, #Psagot ETF (4A) TA-125\n",
    "    'HRL.TA-125' : 1, #Harel Sal (4A) TA 125M\n",
    "    'MTF.TA-125' : 1, #MTF SAL (4A) TA-125\n",
    "    \n",
    "    #stocks\n",
    "    'TEVA' : 1,\n",
    "    'NICE' : 10,\n",
    "    'ICL' : 1,\n",
    "    'ESLT' : 10,\n",
    "    'PRGO' : 10\n",
    "}\n",
    "\n",
    "#symbol to url\n",
    "urls = {\n",
    "    #TA-35    \n",
    "    'HRL.TA-35' : 'https://www.tase.co.il/en/market_data/etf/1148907/historical_data/inday',\n",
    "    'KSM.TA-35' : 'https://www.tase.co.il/en/market_data/etf/1146570/historical_data/inday',\n",
    "    'MTF.TA-35' : 'https://www.tase.co.il/en/market_data/etf/1150184/historical_data/inday',\n",
    "    'PSG.TA-35' : 'https://www.tase.co.il/en/market_data/etf/1148790/historical_data/inday',\n",
    "    'TC.TA35' : 'https://www.tase.co.il/en/market_data/etf/1143700/historical_data/inday',\n",
    "    \n",
    "    #TA-125\n",
    "    'TC.TA125' : 'https://www.tase.co.il/en/market_data/etf/1143718/historical_data/inday',\n",
    "    'KSM.TA-125' : 'https://www.tase.co.il/en/market_data/etf/1146356/historical_data/inday',\n",
    "    'PSG.TA-125' : 'https://www.tase.co.il/en/market_data/etf/1148808/historical_data/inday',\n",
    "    'HRL.TA-125' : 'https://www.tase.co.il/en/market_data/etf/1148899/historical_data/inday',\n",
    "    'MTF.TA-125' : 'https://www.tase.co.il/en/market_data/etf/1150283/historical_data/inday',\n",
    "    \n",
    "    #stocks\n",
    "    'TEVA' : 'https://www.tase.co.il/en/market_data/security/00629014/historical_data/inday',\n",
    "    'NICE' : 'https://www.tase.co.il/en/market_data/security/00273011/historical_data/inday',\n",
    "    'ICL' : 'https://www.tase.co.il/en/market_data/security/00281014/historical_data/inday',\n",
    "    'ESLT' : 'https://www.tase.co.il/en/market_data/security/01081124/historical_data/inday',\n",
    "    'PRGO' : 'https://www.tase.co.il/en/market_data/security/01130699/historical_data/inday'\n",
    "}"
   ]
  },
  {
   "cell_type": "code",
   "execution_count": 5,
   "metadata": {},
   "outputs": [
    {
     "name": "stdout",
     "output_type": "stream",
     "text": [
      "HRL.TA-35 1 https://www.tase.co.il/en/market_data/etf/1148907/historical_data/inday\n",
      "HRL.TA-35 retry 2 [Errno 2] No such file or directory: '/home/void/Downloads/securityHistoryInDayData.csv'\n",
      "HRL.TA-35 1 https://www.tase.co.il/en/market_data/etf/1148907/historical_data/inday\n",
      "HRL.TA-35 retry 1 [Errno 2] No such file or directory: '/home/void/Downloads/securityHistoryInDayData.csv'\n",
      "HRL.TA-35 1 https://www.tase.co.il/en/market_data/etf/1148907/historical_data/inday\n",
      "KSM.TA-35 10 https://www.tase.co.il/en/market_data/etf/1146570/historical_data/inday\n",
      "MTF.TA-35 1 https://www.tase.co.il/en/market_data/etf/1150184/historical_data/inday\n",
      "PSG.TA-35 1 https://www.tase.co.il/en/market_data/etf/1148790/historical_data/inday\n",
      "TC.TA35 1 https://www.tase.co.il/en/market_data/etf/1143700/historical_data/inday\n",
      "TC.TA125 1 https://www.tase.co.il/en/market_data/etf/1143718/historical_data/inday\n",
      "KSM.TA-125 10 https://www.tase.co.il/en/market_data/etf/1146356/historical_data/inday\n",
      "PSG.TA-125 1 https://www.tase.co.il/en/market_data/etf/1148808/historical_data/inday\n",
      "PSG.TA-125 retry 2 list index out of range\n",
      "PSG.TA-125 1 https://www.tase.co.il/en/market_data/etf/1148808/historical_data/inday\n",
      "HRL.TA-125 1 https://www.tase.co.il/en/market_data/etf/1148899/historical_data/inday\n",
      "HRL.TA-125 retry 2 list index out of range\n",
      "HRL.TA-125 1 https://www.tase.co.il/en/market_data/etf/1148899/historical_data/inday\n",
      "MTF.TA-125 1 https://www.tase.co.il/en/market_data/etf/1150283/historical_data/inday\n",
      "MTF.TA-125 retry 2 list index out of range\n",
      "MTF.TA-125 1 https://www.tase.co.il/en/market_data/etf/1150283/historical_data/inday\n",
      "TEVA 1 https://www.tase.co.il/en/market_data/security/00629014/historical_data/inday\n",
      "TEVA retry 2 list index out of range\n",
      "TEVA 1 https://www.tase.co.il/en/market_data/security/00629014/historical_data/inday\n",
      "NICE 10 https://www.tase.co.il/en/market_data/security/00273011/historical_data/inday\n",
      "NICE retry 2 list index out of range\n",
      "NICE 10 https://www.tase.co.il/en/market_data/security/00273011/historical_data/inday\n",
      "ICL 1 https://www.tase.co.il/en/market_data/security/00281014/historical_data/inday\n",
      "ESLT 10 https://www.tase.co.il/en/market_data/security/01081124/historical_data/inday\n",
      "ESLT retry 2 list index out of range\n",
      "ESLT 10 https://www.tase.co.il/en/market_data/security/01081124/historical_data/inday\n",
      "PRGO 10 https://www.tase.co.il/en/market_data/security/01130699/historical_data/inday\n",
      "PRGO retry 2 list index out of range\n",
      "PRGO 10 https://www.tase.co.il/en/market_data/security/01130699/historical_data/inday\n"
     ]
    }
   ],
   "source": [
    "#init\n",
    "driver = webdriver.Chrome()\n",
    "driver.minimize_window()\n",
    "\n",
    "#run flow\n",
    "for symbol, tick in symbols.items():\n",
    "    retry = 3\n",
    "    done = False\n",
    "    \n",
    "    while(not done and retry > 0):\n",
    "        try:\n",
    "            retry -= 1\n",
    "            url = urls[symbol]\n",
    "            print(symbol, tick, url)\n",
    "\n",
    "            #clean\n",
    "            clean_history()\n",
    "\n",
    "            #request\n",
    "            driver.get(url)\n",
    "            time.sleep(5)\n",
    "\n",
    "            #Download data\n",
    "            driver.find_elements_by_class_name('icon-download')[0].click()\n",
    "\n",
    "            #CSV\n",
    "            driver.find_elements_by_xpath(\"//a[contains(text(),'CSV')]\")[0].click()\n",
    "            time.sleep(5)\n",
    "\n",
    "            #clone\n",
    "            shutil.copyfile(file_history, data_dir + symbol + '.csv')            \n",
    "            \n",
    "            #done\n",
    "            done = True\n",
    "        except Exception as e:\n",
    "            print(symbol, 'retry', retry, e)\n",
    "        \n",
    "#clean\n",
    "clean_history()\n",
    "\n",
    "#terminate\n",
    "driver.quit()"
   ]
  },
  {
   "cell_type": "markdown",
   "metadata": {},
   "source": [
    "# Dynamic\n",
    "* Top-k by turnover"
   ]
  },
  {
   "cell_type": "code",
   "execution_count": 6,
   "metadata": {},
   "outputs": [],
   "source": [
    "k = 5\n",
    "data = []\n",
    "\n",
    "#init\n",
    "driver = webdriver.Chrome()\n",
    "driver.minimize_window()"
   ]
  },
  {
   "cell_type": "markdown",
   "metadata": {},
   "source": [
    "## Stocks"
   ]
  },
  {
   "cell_type": "code",
   "execution_count": 7,
   "metadata": {},
   "outputs": [],
   "source": [
    "#load\n",
    "url = 'https://info.tase.co.il/eng/marketdata/stocks/marketdata/Pages/MarketData.aspx'\n",
    "driver.get(url)\n",
    "time.sleep(5)\n",
    "\n",
    "#sort\n",
    "driver.find_element_by_id('OverallTurnOverValue DESC').click()\n",
    "time.sleep(5)\n",
    "\n",
    "#top-k\n",
    "elements = driver.find_elements_by_xpath('//td[@class=\"DataGridItemReg\"]//a[@class=\"linkInGrid\"]')[:k]"
   ]
  },
  {
   "cell_type": "code",
   "execution_count": 8,
   "metadata": {},
   "outputs": [
    {
     "name": "stdout",
     "output_type": "stream",
     "text": [
      "TEVA https://www.tase.co.il/en/market_data/security/00629014/historical_data/inday\n",
      "POALIM https://www.tase.co.il/en/market_data/security/00662577/historical_data/inday\n",
      "NICE https://www.tase.co.il/en/market_data/security/00273011/historical_data/inday\n",
      "LEUMI https://www.tase.co.il/en/market_data/security/00604611/historical_data/inday\n",
      "MIZRAHI TEFAHOT https://www.tase.co.il/en/market_data/security/00695437/historical_data/inday\n"
     ]
    }
   ],
   "source": [
    "#collect raw data\n",
    "for e in elements:\n",
    "    symbol = e.text\n",
    "    href = e.get_attribute('href')\n",
    "    data_href = 'https://www.tase.co.il/en/market_data/security/' + href.split('/')[-1] + '/historical_data/inday'\n",
    "    print(symbol, data_href)\n",
    "    data.append([symbol, href, data_href])"
   ]
  },
  {
   "cell_type": "markdown",
   "metadata": {},
   "source": [
    "## ETF"
   ]
  },
  {
   "cell_type": "code",
   "execution_count": 9,
   "metadata": {},
   "outputs": [],
   "source": [
    "#load\n",
    "url = 'https://www.tase.co.il/en/market_data/etfs'\n",
    "driver.get(url)\n",
    "time.sleep(5)\n",
    "\n",
    "#sort\n",
    "driver.find_elements_by_xpath('//button[@aria-label=\"Sort descending by Turnover (NIS thousands) \"]')[0].click()\n",
    "time.sleep(5)\n",
    "\n",
    "#top-k\n",
    "elements = driver.find_elements_by_xpath('//a[@class=\"item-name\"]')[:k]"
   ]
  },
  {
   "cell_type": "code",
   "execution_count": 10,
   "metadata": {},
   "outputs": [
    {
     "name": "stdout",
     "output_type": "stream",
     "text": [
      "Harel Sal (4A) TA-Banks5 https://www.tase.co.il/en/market_data/security/1148949/historical_data/inday\n",
      "Tachlit SAL (40) TA 125 https://www.tase.co.il/en/market_data/security/1143718/historical_data/inday\n",
      "Tachlit SAL (00) Tel Bond 20 https://www.tase.co.il/en/market_data/security/1143791/historical_data/inday\n",
      "Tachlit SAL (40) TA 35 https://www.tase.co.il/en/market_data/security/1143700/historical_data/inday\n",
      "Tachlit SAL (4D) S&P 500 https://www.tase.co.il/en/market_data/security/1144385/historical_data/inday\n"
     ]
    }
   ],
   "source": [
    "#collect raw data\n",
    "for e in elements:\n",
    "    symbol = e.text\n",
    "    href = e.get_attribute('href')\n",
    "    data_href = 'https://www.tase.co.il/en/market_data/security/' + href.split('/')[-1] + '/historical_data/inday'\n",
    "    print(symbol, data_href)\n",
    "    data.append([symbol, href, data_href])"
   ]
  },
  {
   "cell_type": "markdown",
   "metadata": {},
   "source": [
    "## Run Flow"
   ]
  },
  {
   "cell_type": "code",
   "execution_count": 11,
   "metadata": {},
   "outputs": [
    {
     "name": "stdout",
     "output_type": "stream",
     "text": [
      "TEVA https://www.tase.co.il/en/market_data/security/00629014/historical_data/inday\n",
      "POALIM https://www.tase.co.il/en/market_data/security/00662577/historical_data/inday\n",
      "NICE https://www.tase.co.il/en/market_data/security/00273011/historical_data/inday\n",
      "LEUMI https://www.tase.co.il/en/market_data/security/00604611/historical_data/inday\n",
      "MIZRAHI TEFAHOT https://www.tase.co.il/en/market_data/security/00695437/historical_data/inday\n",
      "Harel Sal (4A) TA-Banks5 https://www.tase.co.il/en/market_data/security/1148949/historical_data/inday\n",
      "Tachlit SAL (40) TA 125 https://www.tase.co.il/en/market_data/security/1143718/historical_data/inday\n",
      "Tachlit SAL (00) Tel Bond 20 https://www.tase.co.il/en/market_data/security/1143791/historical_data/inday\n",
      "Tachlit SAL (40) TA 35 https://www.tase.co.il/en/market_data/security/1143700/historical_data/inday\n",
      "Tachlit SAL (4D) S&P 500 https://www.tase.co.il/en/market_data/security/1144385/historical_data/inday\n",
      "Tachlit SAL (4D) S&P 500 retry 2 list index out of range\n",
      "Tachlit SAL (4D) S&P 500 https://www.tase.co.il/en/market_data/security/1144385/historical_data/inday\n"
     ]
    }
   ],
   "source": [
    "#run flow\n",
    "for d in data:\n",
    "    retry = 3\n",
    "    done = False\n",
    "    \n",
    "    while(not done and retry > 0):\n",
    "        try:    \n",
    "            retry -= 1\n",
    "            symbol = d[0]\n",
    "            href = d[1]\n",
    "            data_href = d[2]\n",
    "            print(symbol, data_href)\n",
    "\n",
    "            #clean\n",
    "            clean_history()\n",
    "\n",
    "            #go to data\n",
    "            driver.get(data_href)\n",
    "            time.sleep(5)\n",
    "\n",
    "            #Download data\n",
    "            driver.find_elements_by_class_name('icon-download')[0].click()\n",
    "\n",
    "            #CSV\n",
    "            driver.find_elements_by_xpath(\"//a[contains(text(),'CSV')]\")[0].click()\n",
    "            time.sleep(5)\n",
    "\n",
    "            #clone\n",
    "            shutil.copyfile(file_history, data_dir + symbol + '.csv')\n",
    "            \n",
    "            #done\n",
    "            done = True            \n",
    "        except Exception as e:\n",
    "            print(symbol, 'retry', retry, e)            \n",
    "            \n",
    "#clean\n",
    "clean_history()\n",
    "\n",
    "#terminate\n",
    "driver.quit()"
   ]
  },
  {
   "cell_type": "markdown",
   "metadata": {},
   "source": [
    "# Zoom In"
   ]
  },
  {
   "cell_type": "code",
   "execution_count": 12,
   "metadata": {},
   "outputs": [],
   "source": [
    "def load_data(symbol):\n",
    "    df = pd.read_csv(data_dir + symbol + '.csv', skiprows=2).dropna()\n",
    "    df['Time'] = pd.to_datetime(df['Time'])\n",
    "    df = df.sort_values(by='Time').reset_index().drop(['index'], axis=1)\n",
    "    return df"
   ]
  },
  {
   "cell_type": "code",
   "execution_count": 13,
   "metadata": {},
   "outputs": [
    {
     "data": {
      "text/html": [
       "<div>\n",
       "<style scoped>\n",
       "    .dataframe tbody tr th:only-of-type {\n",
       "        vertical-align: middle;\n",
       "    }\n",
       "\n",
       "    .dataframe tbody tr th {\n",
       "        vertical-align: top;\n",
       "    }\n",
       "\n",
       "    .dataframe thead th {\n",
       "        text-align: right;\n",
       "    }\n",
       "</style>\n",
       "<table border=\"1\" class=\"dataframe\">\n",
       "  <thead>\n",
       "    <tr style=\"text-align: right;\">\n",
       "      <th></th>\n",
       "      <th>Time</th>\n",
       "      <th>Last Rate</th>\n",
       "      <th>Change (%)</th>\n",
       "      <th>Volume</th>\n",
       "      <th>Turnover(NIS)</th>\n",
       "      <th>Cumulative Turnover (NIS)</th>\n",
       "    </tr>\n",
       "  </thead>\n",
       "  <tbody>\n",
       "    <tr>\n",
       "      <th>0</th>\n",
       "      <td>2020-05-08 09:59:00</td>\n",
       "      <td>3696.0</td>\n",
       "      <td>5.00</td>\n",
       "      <td>118490.0</td>\n",
       "      <td>4379390.40</td>\n",
       "      <td>4379390.0</td>\n",
       "    </tr>\n",
       "    <tr>\n",
       "      <th>1</th>\n",
       "      <td>2020-05-08 09:59:00</td>\n",
       "      <td>3691.0</td>\n",
       "      <td>4.86</td>\n",
       "      <td>500.0</td>\n",
       "      <td>18455.00</td>\n",
       "      <td>4611179.0</td>\n",
       "    </tr>\n",
       "    <tr>\n",
       "      <th>2</th>\n",
       "      <td>2020-05-08 09:59:00</td>\n",
       "      <td>3691.0</td>\n",
       "      <td>4.86</td>\n",
       "      <td>1000.0</td>\n",
       "      <td>36910.00</td>\n",
       "      <td>4592724.0</td>\n",
       "    </tr>\n",
       "    <tr>\n",
       "      <th>3</th>\n",
       "      <td>2020-05-08 09:59:00</td>\n",
       "      <td>3691.0</td>\n",
       "      <td>4.86</td>\n",
       "      <td>900.0</td>\n",
       "      <td>33219.00</td>\n",
       "      <td>4555814.0</td>\n",
       "    </tr>\n",
       "    <tr>\n",
       "      <th>4</th>\n",
       "      <td>2020-05-08 09:59:00</td>\n",
       "      <td>3691.0</td>\n",
       "      <td>4.86</td>\n",
       "      <td>566.0</td>\n",
       "      <td>20891.06</td>\n",
       "      <td>4522595.0</td>\n",
       "    </tr>\n",
       "  </tbody>\n",
       "</table>\n",
       "</div>"
      ],
      "text/plain": [
       "                 Time  Last Rate  Change (%)    Volume  Turnover(NIS)  \\\n",
       "0 2020-05-08 09:59:00     3696.0        5.00  118490.0     4379390.40   \n",
       "1 2020-05-08 09:59:00     3691.0        4.86     500.0       18455.00   \n",
       "2 2020-05-08 09:59:00     3691.0        4.86    1000.0       36910.00   \n",
       "3 2020-05-08 09:59:00     3691.0        4.86     900.0       33219.00   \n",
       "4 2020-05-08 09:59:00     3691.0        4.86     566.0       20891.06   \n",
       "\n",
       "   Cumulative Turnover (NIS)  \n",
       "0                  4379390.0  \n",
       "1                  4611179.0  \n",
       "2                  4592724.0  \n",
       "3                  4555814.0  \n",
       "4                  4522595.0  "
      ]
     },
     "execution_count": 13,
     "metadata": {},
     "output_type": "execute_result"
    }
   ],
   "source": [
    "df = load_data('TEVA')\n",
    "df.head()"
   ]
  },
  {
   "cell_type": "code",
   "execution_count": 14,
   "metadata": {},
   "outputs": [
    {
     "data": {
      "text/plain": [
       "<matplotlib.axes._subplots.AxesSubplot at 0x7f0c719d9fd0>"
      ]
     },
     "execution_count": 14,
     "metadata": {},
     "output_type": "execute_result"
    },
    {
     "data": {
      "image/png": "[encoded data removed]",
      "text/plain": [
       "<Figure size 432x288 with 1 Axes>"
      ]
     },
     "metadata": {
      "needs_background": "light"
     },
     "output_type": "display_data"
    }
   ],
   "source": [
    "df.groupby('Time').mean()['Last Rate'].plot(title='TEVA')"
   ]
  },
  {
   "cell_type": "code",
   "execution_count": null,
   "metadata": {},
   "outputs": [],
   "source": []
  }
 ],
 "metadata": {
  "kernelspec": {
   "display_name": "Python 3",
   "language": "python",
   "name": "python3"
  },
  "language_info": {
   "codemirror_mode": {
    "name": "ipython",
    "version": 3
   },
   "file_extension": ".py",
   "mimetype": "text/x-python",
   "name": "python",
   "nbconvert_exporter": "python",
   "pygments_lexer": "ipython3",
   "version": "3.7.4"
  }
 },
 "nbformat": 4,
 "nbformat_minor": 2
}
