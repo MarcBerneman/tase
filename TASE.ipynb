{
 "cells": [
  {
   "cell_type": "markdown",
   "metadata": {},
   "source": [
    "# Tel Aviv Stock Exchange\n",
    "* Scrape historical data"
   ]
  },
  {
   "cell_type": "code",
   "metadata": {},
   "source": [
    "import pandas as pd\n",
    "import time\n",
    "import os\n",
    "from pathlib import Path\n",
    "from tqdm import tqdm\n",
    "\n",
    "from selenium import webdriver\n",
    "from selenium.webdriver.support.wait import WebDriverWait\n",
    "from selenium.webdriver.support import expected_conditions as EC\n",
    "from selenium.webdriver.common.by import By\n",
    "\n",
    "%matplotlib inline\n",
    "import matplotlib.pyplot as plt"
   ],
   "outputs": [],
   "execution_count": null
  },
  {
   "cell_type": "code",
   "metadata": {},
   "source": [
    "#params\n",
    "data_dir = Path.cwd() / 'data'\n",
    "data_dir.mkdir(exist_ok=True)\n",
    "file_history = data_dir / 'securityHistoryInDayData.csv'"
   ],
   "outputs": [],
   "execution_count": null
  },
  {
   "cell_type": "code",
   "metadata": {},
   "source": [
    "def clean_history():\n",
    "    '''\n",
    "    removes tmp downloaded file\n",
    "    '''\n",
    "    \n",
    "    if os.path.exists(file_history):\n",
    "        os.remove(file_history)    "
   ],
   "outputs": [],
   "execution_count": null
  },
  {
   "cell_type": "markdown",
   "metadata": {},
   "source": [
    "# Static\n",
    "* Defined dict of symbols"
   ]
  },
  {
   "cell_type": "code",
   "metadata": {},
   "source": [
    "#symbol to tick\n",
    "symbols = {\n",
    "    #TA-35\n",
    "    'HRL.TA-35' : 1, #Harel Sal (4A) TA 35\n",
    "    'KSM.TA-35' : 10, #KSM ETF (4A) TA-35\n",
    "    'MTF.TA-35' : 1, #MTF SAL (4A) TA-35\n",
    "    'PSG.TA-35' : 1, #Psagot ETF (4A) TA-35\n",
    "    'TC.TA35' : 1, #Tachlit SAL (40) TA 35\n",
    "    \n",
    "    #TA-125\n",
    "    'TC.TA125' : 1, #Tachlit SAL (40) TA 125\n",
    "    'KSM.TA-125' : 10, #KSM ETF (4A) TA-125\n",
    "    'PSG.TA-125' : 1, #Psagot ETF (4A) TA-125\n",
    "    'HRL.TA-125' : 1, #Harel Sal (4A) TA 125M\n",
    "    'MTF.TA-125' : 1, #MTF SAL (4A) TA-125\n",
    "    \n",
    "    #stocks\n",
    "    'TEVA' : 1,\n",
    "    'NICE' : 10,\n",
    "    'ICL' : 1,\n",
    "    'ESLT' : 10,\n",
    "    'PRGO' : 10\n",
    "}\n",
    "\n",
    "#symbol to url\n",
    "urls = {\n",
    "    #TA-35    \n",
    "    'HRL.TA-35' : 'https://www.tase.co.il/en/market_data/etf/1148907/historical_data/inday',\n",
    "    'KSM.TA-35' : 'https://www.tase.co.il/en/market_data/etf/1146570/historical_data/inday',\n",
    "    'MTF.TA-35' : 'https://www.tase.co.il/en/market_data/etf/1150184/historical_data/inday',\n",
    "    'PSG.TA-35' : 'https://www.tase.co.il/en/market_data/etf/1148790/historical_data/inday',\n",
    "    'TC.TA35' : 'https://www.tase.co.il/en/market_data/etf/1143700/historical_data/inday',\n",
    "    \n",
    "    #TA-125\n",
    "    'TC.TA125' : 'https://www.tase.co.il/en/market_data/etf/1143718/historical_data/inday',\n",
    "    'KSM.TA-125' : 'https://www.tase.co.il/en/market_data/etf/1146356/historical_data/inday',\n",
    "    'PSG.TA-125' : 'https://www.tase.co.il/en/market_data/etf/1148808/historical_data/inday',\n",
    "    'HRL.TA-125' : 'https://www.tase.co.il/en/market_data/etf/1148899/historical_data/inday',\n",
    "    'MTF.TA-125' : 'https://www.tase.co.il/en/market_data/etf/1150283/historical_data/inday',\n",
    "    \n",
    "    #stocks\n",
    "    'TEVA' : 'https://www.tase.co.il/en/market_data/security/00629014/historical_data/inday',\n",
    "    'NICE' : 'https://www.tase.co.il/en/market_data/security/00273011/historical_data/inday',\n",
    "    'ICL' : 'https://www.tase.co.il/en/market_data/security/00281014/historical_data/inday',\n",
    "    'ESLT' : 'https://www.tase.co.il/en/market_data/security/01081124/historical_data/inday',\n",
    "    'PRGO' : 'https://www.tase.co.il/en/market_data/security/01130699/historical_data/inday'\n",
    "}"
   ],
   "outputs": [],
   "execution_count": null
  },
  {
   "metadata": {},
   "cell_type": "code",
   "source": [
    "#init\n",
    "options = webdriver.ChromeOptions()\n",
    "prefs = {\"download.default_directory\": str(data_dir)}\n",
    "options.add_experimental_option(\"prefs\", prefs)\n",
    "driver = webdriver.Chrome(options=options)\n",
    "driver.maximize_window()\n",
    "wait = WebDriverWait(driver, 10)\n",
    "\n",
    "url = 'https://www.tase.co.il/en'\n",
    "driver.get(url)\n",
    "print('Please log in...')"
   ],
   "outputs": [],
   "execution_count": null
  },
  {
   "cell_type": "code",
   "metadata": {},
   "source": [
    "#run flow\n",
    "for symbol, tick in tqdm(symbols.items()):\n",
    "    if not (data_dir / f'{symbol}.csv').exists():\n",
    "        retry = 3\n",
    "        done = False\n",
    "        \n",
    "        while(not done and retry > 0):\n",
    "            try:\n",
    "                retry -= 1\n",
    "                url = urls[symbol]\n",
    "                print(symbol, tick, url)\n",
    "    \n",
    "                #clean\n",
    "                clean_history()\n",
    "    \n",
    "                #request\n",
    "                driver.get(url)\n",
    "                time.sleep(5)\n",
    "    \n",
    "                #Download data\n",
    "                wait.until(EC.presence_of_element_located((By.CLASS_NAME, 'icon-download'))).click()\n",
    "    \n",
    "                #CSV\n",
    "                wait.until(EC.presence_of_element_located((By.LINK_TEXT, 'CSV'))).click()\n",
    "                time.sleep(5)\n",
    "    \n",
    "                #clone\n",
    "                file_history.rename(data_dir / f'{symbol}.csv')            \n",
    "                \n",
    "                #done\n",
    "                done = True\n",
    "            except Exception as e:\n",
    "                print(symbol, 'retry', retry, e)\n",
    "        \n",
    "#clean\n",
    "clean_history()"
   ],
   "outputs": [],
   "execution_count": null
  },
  {
   "cell_type": "markdown",
   "metadata": {},
   "source": [
    "# Dynamic\n",
    "* Top-k by turnover"
   ]
  },
  {
   "cell_type": "markdown",
   "metadata": {},
   "source": [
    "## Stocks"
   ]
  },
  {
   "cell_type": "code",
   "metadata": {},
   "source": [
    "k = 5\n",
    "\n",
    "#load\n",
    "url = 'https://info.tase.co.il/eng/marketdata/stocks/marketdata/Pages/MarketData.aspx'\n",
    "driver.get(url)\n",
    "time.sleep(5)\n",
    "\n",
    "#sort\n",
    "wait.until(EC.presence_of_element_located((By.ID, 'OverallTurnOverValue DESC'))).click()\n",
    "time.sleep(5)\n",
    "\n",
    "#top-k\n",
    "elements = wait.until(EC.presence_of_all_elements_located((By.XPATH, '//td[@class=\"DataGridItemReg\"]//a[@class=\"linkInGrid\"]')))[:k]"
   ],
   "outputs": [],
   "execution_count": null
  },
  {
   "cell_type": "code",
   "metadata": {},
   "source": [
    "#collect raw data\n",
    "data = []\n",
    "for e in elements:\n",
    "    symbol = e.text\n",
    "    href = e.get_attribute('href')\n",
    "    data_href = 'https://www.tase.co.il/en/market_data/security/' + href.split('/')[-1] + '/historical_data/inday'\n",
    "    print(symbol, data_href)\n",
    "    data.append([symbol, href, data_href])"
   ],
   "outputs": [],
   "execution_count": null
  },
  {
   "cell_type": "markdown",
   "metadata": {},
   "source": [
    "## ETF"
   ]
  },
  {
   "cell_type": "code",
   "metadata": {},
   "source": [
    "#load\n",
    "url = 'https://www.tase.co.il/en/market_data/etfs'\n",
    "driver.get(url)\n",
    "time.sleep(5)\n",
    "\n",
    "#sort\n",
    "wait.until(EC.presence_of_element_located((By.XPATH, '//button[@aria-label=\"Sort descending by Turnover (NIS thousands) \"]'))).click()\n",
    "time.sleep(5)\n",
    "\n",
    "#top-k\n",
    "elements = wait.until(EC.presence_of_all_elements_located((By.CLASS_NAME, 'item-name')))[:k]"
   ],
   "outputs": [],
   "execution_count": null
  },
  {
   "cell_type": "code",
   "metadata": {},
   "source": [
    "#collect raw data\n",
    "for e in elements:\n",
    "    symbol = e.text\n",
    "    href = e.get_attribute('href')\n",
    "    data_href = 'https://www.tase.co.il/en/market_data/security/' + href.split('/')[-1] + '/historical_data/inday'\n",
    "    print(symbol, data_href)\n",
    "    data.append([symbol, href, data_href])"
   ],
   "outputs": [],
   "execution_count": null
  },
  {
   "cell_type": "markdown",
   "metadata": {},
   "source": [
    "## Run Flow"
   ]
  },
  {
   "cell_type": "code",
   "metadata": {},
   "source": [
    "#run flow\n",
    "for d in tqdm(data):\n",
    "    symbol = d[0]\n",
    "    if not (data_dir / f'{symbol}.csv').exists():\n",
    "        retry = 3\n",
    "        done = False\n",
    "        \n",
    "        while(not done and retry > 0):\n",
    "            try:    \n",
    "                retry -= 1\n",
    "                \n",
    "                href = d[1]\n",
    "                data_href = d[2]\n",
    "                print(symbol, data_href)\n",
    "    \n",
    "                #clean\n",
    "                clean_history()\n",
    "    \n",
    "                #go to data\n",
    "                driver.get(data_href)\n",
    "                time.sleep(5)\n",
    "    \n",
    "                #Download data\n",
    "                wait.until(EC.presence_of_element_located((By.CLASS_NAME, 'icon-download'))).click()\n",
    "                \n",
    "                #CSV\n",
    "                wait.until(EC.presence_of_element_located((By.LINK_TEXT, 'CSV'))).click()\n",
    "                time.sleep(5)\n",
    "    \n",
    "                #clone\n",
    "                # shutil.copyfile(file_history, data_dir + symbol + '.csv')\n",
    "                file_history.rename(data_dir / f'{symbol}.csv')\n",
    "                #done\n",
    "                done = True            \n",
    "            except Exception as e:\n",
    "                print(symbol, 'retry', retry, e)            \n",
    "            \n",
    "#clean\n",
    "clean_history()\n",
    "\n",
    "#terminate\n",
    "driver.quit()"
   ],
   "outputs": [],
   "execution_count": null
  },
  {
   "cell_type": "markdown",
   "metadata": {},
   "source": [
    "# Zoom In"
   ]
  },
  {
   "cell_type": "code",
   "metadata": {},
   "source": [
    "def load_data(symbol):\n",
    "    df = pd.read_csv(data_dir / f'{symbol}.csv', skiprows=2).dropna()\n",
    "    df['Time'] = pd.to_datetime(df['Time'])\n",
    "    df = df.sort_values(by='Time').reset_index().drop(['index'], axis=1)\n",
    "    return df"
   ],
   "outputs": [],
   "execution_count": null
  },
  {
   "cell_type": "code",
   "metadata": {},
   "source": [
    "df = load_data('TEVA')\n",
    "df.head()"
   ],
   "outputs": [],
   "execution_count": null
  },
  {
   "cell_type": "code",
   "metadata": {},
   "source": [
    "df.groupby('Time').mean()['Last Rate'].plot(title='TEVA')"
   ],
   "outputs": [],
   "execution_count": null
  },
  {
   "cell_type": "code",
   "metadata": {},
   "source": [],
   "outputs": [],
   "execution_count": null
  }
 ],
 "metadata": {
  "kernelspec": {
   "display_name": "Python 3",
   "language": "python",
   "name": "python3"
  },
  "language_info": {
   "codemirror_mode": {
    "name": "ipython",
    "version": 3
   },
   "file_extension": ".py",
   "mimetype": "text/x-python",
   "name": "python",
   "nbconvert_exporter": "python",
   "pygments_lexer": "ipython3",
   "version": "3.7.4"
  }
 },
 "nbformat": 4,
 "nbformat_minor": 2
}
